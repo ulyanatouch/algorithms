{
  "nbformat": 4,
  "nbformat_minor": 0,
  "metadata": {
    "colab": {
      "provenance": [],
      "collapsed_sections": [
        "iSKIJnAaz95y",
        "nZ_9qO4Q0XxJ",
        "_kkazKPPbonQ",
        "ryGCKjJUWe75",
        "ruC3N5YGWoQW",
        "5hw5DVcbWlFI",
        "KSG9t54iWuMO",
        "PqwZHXXJWxYi",
        "XEX8D-UXlT16",
        "4siciRfZXU8p",
        "KlIBcbirXgjC",
        "yPVyAuh0Xrjv",
        "DxWGuLCFX02U",
        "74Yoy8_xX9Fa",
        "eFrDsadpY3RA",
        "Rvg1qkGkSM_g",
        "xK2BK7P7E7bK",
        "r4MyN17D43FZ",
        "3glLGQK5p52P",
        "LgLv-xQzeZ53",
        "IfuRVsMOehk6",
        "p13e-5ETwqE0",
        "I8aoROIXe7jf",
        "ArFpXkaSG3S_",
        "VZX3VCycHCeB",
        "hH-zVQb1rj48",
        "cO5FABgrq0if",
        "qIzJduOgrsSY",
        "BE5ia5VXrv6B",
        "xiJ95nbFOPJ5",
        "uI9ozNEujSPi",
        "IwlZPdl5jdVW",
        "fYqdWEdCmmee",
        "kjQzA6NMsfmn",
        "RAD-8GwLsbDL",
        "RlTSxtO3pSYL",
        "IhT1POgAlJCh",
        "sB3AiiXNq0AR",
        "jFs1kgcoucvX",
        "zmqtB980uffg",
        "pfWi_RfPugxO",
        "L_VRxU4HvD-U",
        "rLKogSEwz9a1",
        "tcRWpcWNvp3w",
        "qEeqwlngvsuD",
        "FEUnnIuUv3Ol",
        "Q8syXA5i1hY-",
        "9YN12wbL7DPT",
        "Oo0srK5z73Fs",
        "bltDQbJ2wZkw",
        "uRJ70_0g_QGk",
        "Dhb30OaAAakh",
        "2brkWRq-BOOg",
        "LnnUVPngxXsv",
        "05JkeqTFK4IP",
        "P08dqoedxgpE",
        "9TQpiaGXxrjp",
        "nZJetkOgZBMe",
        "E05M6M4RzUPk",
        "tE27tvyd00Pa",
        "8NvG7pdp0Lt5",
        "0uKZHgR02YDT",
        "K3FAPeHFyZEA",
        "_YPRQjnGysCH",
        "9RcqJIQVC6aH",
        "iQ0504mvyxAL",
        "fkPXxW18EcQq",
        "z4hCt1TIzavX",
        "ehUWbxjJzVVa",
        "nBx0nNxeLXBB",
        "vaz1wZ9tz8Nw",
        "kSvoSkCl0Bkc",
        "bYj8zzVOiQnB",
        "Z9eQzrAhrF16",
        "t3VYaVQV1Oc3",
        "oKfJCa9UrLN7",
        "zn8LyG7q1QuA",
        "WyyXa1WouLG_",
        "Qxqp5XEDuVbh",
        "rp94wHZc2OrK",
        "v-S9KWso2YBA",
        "pfUjAptHzfVB",
        "qS7MqVwGz07U",
        "HZlkF_lB510Q",
        "x6enKYG63oCv",
        "NLg-FtDg30TW",
        "3_FAw__q3SfZ",
        "AEFhxwJz-Xbt",
        "-fpjr2HO-C0h",
        "XeDT0jub_VAA",
        "WZsqLBE4BfUy",
        "raMRBCPS4JYG",
        "0z4mgdvh_HVN",
        "T8NU_s1yD9YQ",
        "xxHHWMnI4qIU",
        "EQUZ2l-A413b",
        "4vrUuqIO43XY",
        "zhRz08yZ447O",
        "Buc_JxPl46F1",
        "B5bFzk2w47dB",
        "GOsd7GlJ_NMG",
        "2OhoxW2b5cx9",
        "-NACLVTg5hv3",
        "sW4ygjLmNl4D",
        "8Q-FAMCcOSY5",
        "zKbvlSBf9Up_",
        "CJerOxm99XUI",
        "yuY8jenNfGps",
        "EAUD6qHacdwS",
        "uxeC8XItg8mA",
        "Lvlw3hW867f1",
        "YQ6qLzpZ698K",
        "dcdDWa0FnafE",
        "tkpMeYqdnlKA",
        "xYq8c89nrAHF",
        "3Gn96whFrG77",
        "czzC0g38sa9V",
        "ZYg3yGfLJcy3",
        "lRM31euhJgaY",
        "9HDqohiHxvdz",
        "h_IRq_1Q73fa",
        "cheXNPIv8FQq",
        "DE_VetTy0THK",
        "YCmgH3q90dKn",
        "M5kd9YGY8VyW",
        "pPiXwnC08eIC",
        "L9d0C7Jj373f",
        "sDtXBTAh4cuI",
        "MxSd526Y7ayw",
        "2rINHaRaAJm-",
        "2uC_aeZDKdmI",
        "wM0JMG1HKY54",
        "FDsnXwvc_GHq",
        "1cepDfi3CMRJ",
        "veC1h0e9LCuf",
        "TyYNQUCdn3yj",
        "tewaiHOCL90J",
        "mGWb0YyBMBED",
        "aa3uWgnrhF_1",
        "vVt6X55POGyC",
        "kn2fa2S3MgIo",
        "Y1cPxbTzMlUV",
        "KjLGz0A4Mppw",
        "a7_oTk6-gP9u",
        "ts_s9pkCgX4R",
        "pRk3YYPMx8ve",
        "NQcJ0PYKApW3",
        "DjdfwkRrM56x",
        "zTx7hHcYNB7D",
        "r6FcOrqKhNJ-",
        "Har-UKpVhRq4",
        "ZmpVSTaGhUIP",
        "0sWdBMOPehkm",
        "8wutd8VmhJV7",
        "kZGbwEuRhmkW",
        "6PCz8m1_i5DH",
        "ApG9ruX9jQ0t",
        "uAqiTN461qOA",
        "HPgHlvAT1x-i",
        "EKrfJpNA4QOG",
        "0Gcs8gQQ4TtK",
        "VtBHUaar4Z9n",
        "9WFiQdJD4Wzu",
        "hTHXrZq-9bwj",
        "gUYexWO7-Hrw",
        "Iv76QhOmF3hF",
        "vkPHEeGyTvxB",
        "Ed9pWgMgGlCa",
        "SYWm_C8iIIPn",
        "kj4TfjrMIrhc"
      ]
    },
    "kernelspec": {
      "name": "python3",
      "display_name": "Python 3"
    },
    "language_info": {
      "name": "python"
    }
  },
  "cells": [
    {
      "cell_type": "markdown",
      "source": [
        "### Некоторые вопросы"
      ],
      "metadata": {
        "id": "7FLi7BulooD2"
      }
    },
    {
      "cell_type": "markdown",
      "source": [
        "- Зачем нужна оценка сложности?\n",
        "- Как насколько хорошие программы вы пишете?\n",
        "- При чём тут математическая логика?\n",
        "- При чём тут теория множеств?\n",
        "- Что такое функция?\n",
        "- Что такое предикат?\n",
        "- Как максимально просто подойти к оценке сложности?\n",
        "- Как отличить сложности?\n",
        "- Как визуализировать сложность?\n",
        "- О-большое — что это?\n",
        "- Как оценить простую программу на сложность?\n",
        "- Какие операции над сложностями выполняют?\n",
        "- Cтрок: проблемы?\n",
        "- Нестандартная оценка?\n",
        "- Какая асимптоматика бывает ещё?\n",
        "\n",
        "На каждом этапе примеры\n",
        "\n",
        "Итоги"
      ],
      "metadata": {
        "id": "pPuztJepon4c"
      }
    },
    {
      "cell_type": "markdown",
      "source": [
        "### Задача"
      ],
      "metadata": {
        "id": "7rpDOlAepHe4"
      }
    },
    {
      "cell_type": "markdown",
      "source": [
        "Найти сумму чисел от 1 до N"
      ],
      "metadata": {
        "id": "6Vz171KKpKkX"
      }
    },
    {
      "cell_type": "markdown",
      "source": [
        "#### ex01"
      ],
      "metadata": {
        "id": "8SWre3GyqmdM"
      }
    },
    {
      "cell_type": "markdown",
      "source": [
        "java\n",
        "```java\n",
        "int n = 10;\n",
        "int acc = 0;\n",
        "\n",
        "for (int val = 1; val <= n; val++) {\n",
        "  acc += val;\n",
        "}\n",
        "\n",
        "System.out.printf(\"acc: %d\\n\", acc);\n",
        "\n",
        "```\n",
        "\n",
        "js\n",
        "```javascript\n",
        "const n = 10;\n",
        "let acc = 0;\n",
        "\n",
        "for (let val = 1; val <= n; val++) {\n",
        "  acc += val;\n",
        "}\n",
        "\n",
        "console.log(`acc: ${acc}`);\n",
        "```"
      ],
      "metadata": {
        "id": "GH7TuSB7qquq"
      }
    },
    {
      "cell_type": "markdown",
      "source": [
        "#### ex02"
      ],
      "metadata": {
        "id": "YRpieuXZrgwz"
      }
    },
    {
      "cell_type": "markdown",
      "source": [
        "```java\n",
        "int n = 10;\n",
        "int acc = 0;\n",
        "\n",
        "acc = (n * (n + 1)) / 2;\n",
        "\n",
        "System.out.printf(\"acc: %d\\n\", acc);\n",
        "```\n",
        "\n",
        "js\n",
        "```javascript\n",
        "const n = 10;\n",
        "let acc = 0;\n",
        "\n",
        "acc = (n * (n + 1)) / 2;\n",
        "\n",
        "console.log(`acc: ${acc}`);\n",
        "```"
      ],
      "metadata": {
        "id": "B6vUim6Vrhof"
      }
    },
    {
      "cell_type": "markdown",
      "source": [
        "### Графики\n"
      ],
      "metadata": {
        "id": "PzMbkIH8ryym"
      }
    },
    {
      "cell_type": "markdown",
      "source": [
        "- https://www.desmos.com/calculator\n",
        "- http://wolframalpha.com/"
      ],
      "metadata": {
        "id": "txlt0puRr1t3"
      }
    },
    {
      "cell_type": "markdown",
      "source": [
        "### 🔶 Пять столпов асимптотической оценки сложности простых алгоритмов"
      ],
      "metadata": {
        "id": "S6n9Idovuk_Z"
      }
    },
    {
      "cell_type": "markdown",
      "source": [
        "🔶 Пять столпов асимптотической оценки сложности простых алгоритмов\n",
        "\n",
        "Есть базовые правила того, как подходить к оценке сложности используя нотацию О-большое.\n",
        "\n",
        "Существуют пять основных правил для расчета асимптотической сложности алгоритма:\n",
        "\n",
        "1️⃣ Если для некоторой математической функции 𝑓 алгоритму необходимо выполнить 𝑓(𝑁) действий, то это означает, что алгоритму потребуется сделать 𝑂(𝑓(𝑁)) шагов.\n",
        "\n",
        "2️⃣ Если алгоритм выполняет одно действие, состоящее из 𝑂(𝑓(𝑁)) шагов, а затем вторую, включающую 𝑂(𝑔(𝑁)) шагов, то для функций 𝑓 и 𝑔 потребуется 𝑂(𝑓(𝑁) + 𝑔(𝑁)) шагов.\n",
        "\n",
        "3️⃣ Если алгоритму необходимо сделать 𝑂(𝑓(𝑁) + 𝑔(𝑁)) шагов, и область допустимых значений 𝑁 функции 𝑓(𝑁) больше, чем у функции 𝑔(𝑁), то можно упростить выражение до 𝑂(𝑓(𝑁)).\n",
        "\n",
        "4️⃣ Если алгоритму внутри каждого действия 𝑂(𝑓(𝑁)) одной операции требуется выполнять ещё 𝑂(𝑔(𝑁)) действий другой операции, то можно утверждать, что в общем алгоритм выполнит 𝑂(𝑓(𝑁) × 𝑔(𝑁)) действий.\n",
        "\n",
        "5️⃣ Константами можно пренебречь. Если C является константой, то 𝑂(C × 𝑓(𝑁)) или 𝑂(𝑓(C × 𝑁)) можно упростить до выражения 𝑂(𝑓(𝑁)).\n",
        "\n",
        "Полный текст https://t.me/iksergeyru/121"
      ],
      "metadata": {
        "id": "ZtM11Cx6sF7R"
      }
    },
    {
      "cell_type": "markdown",
      "source": [
        "java\n",
        "```java\n",
        "int count = 10;\n",
        "double acc = 0;\n",
        "for (int val = 1; val <= count; val++) {\n",
        "  acc += val;\n",
        "}\n",
        "\n",
        "double average = acc / count;\n",
        "System.out.printf(\"average: %.2f\", average);\n",
        "```\n",
        "\n",
        "javascript\n",
        "```javascript\n",
        "const count = 10;\n",
        "let acc = 0;\n",
        "for (let val = 1; val <= count; val++) {\n",
        "  acc += val;\n",
        "}\n",
        "\n",
        "const average = acc / count;\n",
        "console.log(`average: ${average}`);\n",
        "```"
      ],
      "metadata": {
        "id": "NUbntIeDuAGh"
      }
    },
    {
      "cell_type": "markdown",
      "source": [
        "самостоятельная работа\n",
        "\n",
        "java\n",
        "```java\n",
        "int count = 10;\n",
        "double acc = 0;\n",
        "for (int val = count; val >= count/3; val--) {\n",
        "  acc += val;\n",
        "}\n",
        "\n",
        "double average = acc / count;\n",
        "System.out.printf(\"average: %.2f\", average);\n",
        "```\n",
        "\n",
        "javascript\n",
        "```javascript\n",
        "const count = 10;\n",
        "let acc = 0;\n",
        "for (let val = 1; val <= count; val >= count/3; val--) {\n",
        "  acc += val;\n",
        "}\n",
        "\n",
        "const average = acc / count;\n",
        "console.log(`average: ${average}`);\n",
        "```"
      ],
      "metadata": {
        "id": "jA3ccmNnRjNB"
      }
    },
    {
      "cell_type": "markdown",
      "source": [
        "### Способы"
      ],
      "metadata": {
        "id": "4f5zHIeCohbr"
      }
    },
    {
      "cell_type": "markdown",
      "source": [
        "Решая задачу получили четыре способа решения и оценка сложности показывает следующее:\n",
        "\n",
        "- Способ #1\n",
        " - $F1(N) = 7×N + 8$\n",
        "- Способ #2\n",
        " - $F2(N) = 2×N + N^2 + 9$\n",
        "- Способ #3\n",
        " - $F3(N) = 23 + 4×log_2(N + 28)$\n",
        "- Способ #4\n",
        " - $F3(N) = 34 - N + N^2 - log_2(78×N)$\n",
        "\n",
        "Разные способы - разные функции, описывающие сложность"
      ],
      "metadata": {
        "id": "8jAVBV13oYj1"
      }
    },
    {
      "cell_type": "code",
      "source": [],
      "metadata": {
        "id": "lAsWqCvNoYK3"
      },
      "execution_count": null,
      "outputs": []
    },
    {
      "cell_type": "markdown",
      "source": [
        "## $Нотация$ $O-большое$"
      ],
      "metadata": {
        "id": "uAqiTN461qOA"
      }
    },
    {
      "cell_type": "markdown",
      "source": [
        "### $O(g(n)) = \\{f(n):$ $∃$ $c, n_0 ∈ ℝ, 0 ≤ f(n) ≤ c \\cdot  g(n), ∀ n ≥ n_0\\}$\n",
        "\n",
        "### Для всех значений $n$, лежащих справа от $n_0$, значение функции $f(n)$ не превышает значения функции $c \\cdot g(n)$.\n",
        "\n",
        "$^*$ *правильнне* $ℕ$"
      ],
      "metadata": {
        "id": "HPgHlvAT1x-i"
      }
    },
    {
      "cell_type": "code",
      "source": [],
      "metadata": {
        "id": "ZVOGf6pKfNJf"
      },
      "execution_count": null,
      "outputs": []
    }
  ]
}